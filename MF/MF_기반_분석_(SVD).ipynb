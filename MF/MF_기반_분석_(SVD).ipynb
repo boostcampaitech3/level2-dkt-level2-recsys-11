{
  "cells": [
    {
      "cell_type": "markdown",
      "id": "686f4f64",
      "metadata": {
        "id": "686f4f64"
      },
      "source": [
        "Reference : https://lsjsj92.tistory.com/568"
      ]
    },
    {
      "cell_type": "markdown",
      "id": "d9a684ba",
      "metadata": {
        "id": "d9a684ba"
      },
      "source": [
        "# SVD 기반 DKT 문제 분석\n",
        "- 🦆 개요 (Overview)\n",
        "- ⚙️ 환경 설정 및 전처리 (Environment Setting & Preprocessing)\n",
        "- 🎯 SVD 분석\n",
        "- 🎯 예측 및 평가"
      ]
    },
    {
      "cell_type": "markdown",
      "id": "f30d0aa9",
      "metadata": {
        "id": "f30d0aa9"
      },
      "source": [
        "## 🦆개요 (Overview)\n",
        "\n",
        "### Deep Knowledge Tracing (DKT)\n",
        "\n",
        "학습자의 학습 수준을 추적하는 문제로, 여기에서는 학습자의 현재 성취 정도를 바탕으로 새로운 문제를 맞출 수 있을지를 판별하는 문제에서 Collaborative Filtering (Recommendation System) 문제로 치환하여 접근하고자 한다.\n",
        "\n",
        "### 추천 시스템 (Recommendation System: RS)\n",
        "\n",
        "데이터로부터 사용자의 선호에 맞는 정보를 필터링하여 사용자가 원하는, 또는 관심을 가질만한 정보를 선별하여 제공하는 시스템을 말한다. \n",
        "\n",
        "> 추천 시스템(推薦system)은 정보 필터링 (IF) 기술의 일종으로, 특정 사용자가 관심을 가질만한 정보 (영화, 음악, 책, 뉴스, 이미지, 웹 페이지 등)를 추천하는 것이다. 추천 시스템에는 협업 필터링 기법을 주로 사용한다. 소셜 북마크 사이트에서 링크를 사람들에게 추천하고 무비렌즈 데이터 세트에서 영화를 추천하는 방법등이 이에 속한다. [(Wikipedia)](https://ko.wikipedia.org/wiki/%EC%B6%94%EC%B2%9C_%EC%8B%9C%EC%8A%A4%ED%85%9C)\n",
        "\n",
        "위 정의에 따라 추천 시스템은 정보 필터링 (Information Filtering)으로 정보를 선별하는 기술로 볼 수 있다. 이러한 필터링 방법으로 컨텐츠 기반 필터링 (Content-based Filtering) 과 협업 필터링 (Collaborative Filtering)이 대표적으로 사용된다.\n",
        "\n",
        "여기에서 컨텐츠 기반 필터링 (Content-based Filtering) 과 협업 필터링 (Collaborative Filtering)의 차이는 다음과 같다.\n",
        "\n",
        "컨텐츠 기반 필터링 (Content-based Filtering)\n",
        "- 사용자가 선호한 아이템의 사전 정의된 아이템의 정보(description)와 태그, 카테고리 등의 키워드를 바탕으로 유사한 아이템을 추천\n",
        "- 사전 정의가 잘 되어 있는 경우, 사용자에 대한 정보가 적어도 추천이 가능함\n",
        "- 명시된 정보들에 기반하여 분석하므로 결과에 대한 설명성이 높음\n",
        "- 사전 정보가 잘 구축되어 있지 않으면 올바른 추천을 제공해주기 어려움\n",
        "\n",
        "협업 필터링 (Collaborative Filtering)\n",
        "- 사용자간, 아이템간의 유사도에 따라 유사한 사용자가 선호하는 아이템, 또는 사용자가 선호하는 아이템과 유사한 아이템을 추천\n",
        "- 사전 정의가 부정확해도 추천이 가능하므로 아이템의 데이터베이스 구축에 드는 비용이 감소\n",
        "- 데이터가 부족한 경우 올바른 추천을 제공해주기 어려움\n",
        "\n",
        "\n",
        "### 협업 필터링 (Collaborative Filtering: CF)\n",
        "[참조](https://kmhana.tistory.com/31)\n",
        "\n",
        "협업 필터링 분류 [참조](https://towardsdatascience.com/various-implementations-of-collaborative-filtering-100385c6dfe0)\n",
        "\n",
        "- 메모리 기반 접근 방법, 모델 기반 접근방법이 존재\n",
        "- 여기에서 사용하는 SVD 기법은 모델 기반 기법\n",
        "\n",
        "### Matrix Factorization (MF)\n",
        "\n",
        "- 행렬을 어떠한 행렬들의 곱으로 표현할 수 있는 행렬을 찾아내는 기법 (X = AB)\n",
        "- 이와 같은 행렬을 찾아낼 때, 본래 행렬이 가진 정보를 주로 포함하는 축과 정보량이 적은 축을 구분할 수 있음\n",
        "- 행렬의 정보를 주로 포함하는 축 만을 남겨 해당 축에 대한 벡터조합으로 변형하면 벡터 또는 행렬을 잠재 공간 (Latent Space) 상으로 투영할 수 있음 (차원 감소: Dimensionality Reduction)\n",
        "- 투영 행렬의 역행렬을 통해 잠재 공간상의 벡터 또는 행렬을 본래의 값으로 복원할 수 있음\n",
        "- 대표적으로 특이값 분해 (Singular Value Decomposition: SVD), 주성분 분석 (Principal Compoent Analysis: PCA) 등이 존재\n",
        "\n",
        "### Matrix Factorization (MF) 기반 협업 필터링\n",
        "[참조](https://www.sallys.space/blog/2018/05/16/intro-to-resys/)\n",
        "\n",
        "Latent space의 예시 [참조](https://www.sallys.space/blog/2018/05/16/intro-to-resys/)\n",
        "\n",
        "- 사용자의 아이템에 대한 선호 정보를 잠재 공간 (latent space)로 투영하여 표현하고, 이를 기반으로 대상의 유사도를 판별하여 추천을 수행\n",
        "- 잠재공간의 예시로는 위 그림에서와 같이 장르나 컨텐츠 특성 등의 명시적 factor 따라 분석하는 방법이 있음. 허나 모델 기반 방법에서는 이와 같은 factor가 데이터를 기반으로 추론됨\n",
        "- MF 기반 협업 필터링에서는 사용자-아이템간의 선호 정보를 표현한 행렬을 행렬 분해 (Matrix Factorization: MF) 방법을 통해 사용자의 선호 정보를 잠재 공간으로의 투영 행렬을 계산\n",
        "- 사용자의 아이템에 대한 선호 vector를 투영 행렬을 통해 latent space로 투영시켜 새로운 아이템에 대한 선호를 알 수 있음\n",
        "\n",
        "### 특이값 분해 (Singular Value Decomposition: SVD) 를 통한 MF\n",
        "\n",
        "- SVD는 행렬의 특이값 (Singular Value)를 기반으로 행렬을 분해하는 기법 [참조](https://angeloyeo.github.io/2019/08/01/SVD.html)\n",
        "- SVD는 행렬 $X$에 대해 다음 식이 성립하는 행렬 값을 계산\n",
        "  - $XV = U\\Sigma$\n",
        "  - $U$ 는 각 축이 서로 직교하는 백터로 구성된 행렬\n",
        "  - $\\Sigma$ 는 각 대각 원소 $\\sigma_i$가 특이값을 나타내는 대각 행렬\n",
        "  - 이를 통해, 직교행렬(orthogonal matrix) $V$의 열벡터에 대해, A로 선형 변환할 때 크기가 각각 $\\sigma_i$ 만큼 변하지만 여전히 직교하는 행렬 $U$를 찾는 문제로 나타낼 수 있음\n",
        "\n",
        "\n",
        "### SVD 협업 필터링을 통한 DKT 문제\n",
        "\n",
        "- DKT 에서의 '지식'은 문제를 맞출 수 있을지 없을지에 대한 hidden factor\n",
        "- DKT에서의 '지식'은 협업 필터링에서의 사용자의 '취향'과, 문제의 정답 여부는 협업 필터링에서의 아이템의 '선호도'로 매핑될 수 있음\n",
        "- 따라서 선호를 통해 사용자의 취향을 추론하듯, 문제의 정답 여부를 통해 문제에 대한 지식 정도를 추론 가능\n",
        "- 단, DKT에서는 주로 시간에 따른 지식 변화를 '추적'하는 데에 초점을 맞추고 있으나, 협업 필터링은 시간에 따른 취향의 변화가 없음을 전제로 하고 있음. 따라서 시간 요소는 협업 필터링에서 보통 고려되지 않으며, 이에 대한 추론에 한계가 있음을 감안할 필요가 있음.\n",
        "\n",
        "### 실습 진행 내용\n",
        "\n",
        "- 환경 설정 및 전처리 : DKT 문제의 데이터를 협업 필터링에 맞는 형태로 변형하는 방법 설명\n",
        "- SVD 분석 : SVD의 개념과 이를 통해 데이터를 분석하는 방법 설명\n",
        "- 예측및 평가 : SVD 분석으로 생성된 변환 행렬을 통해 DKT 문제를 추론하는 방법 설명"
      ]
    },
    {
      "cell_type": "markdown",
      "id": "fbec2e36",
      "metadata": {
        "id": "fbec2e36"
      },
      "source": [
        "## ⚙️ 환경 설정 및 전처리 (Environment Setting & Preprocessing)"
      ]
    },
    {
      "cell_type": "markdown",
      "id": "0a465c00",
      "metadata": {
        "id": "0a465c00"
      },
      "source": [
        "### Loading Library"
      ]
    },
    {
      "cell_type": "code",
      "execution_count": 1,
      "id": "58e0f3ff",
      "metadata": {
        "id": "58e0f3ff"
      },
      "outputs": [],
      "source": [
        "import numpy as np # linear algebra\n",
        "import pandas as pd\n",
        "import random\n",
        "from scipy.sparse.linalg import svds\n",
        "from sklearn.metrics import accuracy_score, roc_auc_score"
      ]
    },
    {
      "cell_type": "markdown",
      "id": "5ecef2d3",
      "metadata": {
        "id": "5ecef2d3"
      },
      "source": [
        "### Data Load"
      ]
    },
    {
      "cell_type": "code",
      "execution_count": 4,
      "id": "85353632",
      "metadata": {
        "id": "85353632"
      },
      "outputs": [],
      "source": [
        "train_data = pd.read_csv('../data/train_data.csv')\n",
        "test_data  = pd.read_csv('../data/test_data.csv')"
      ]
    },
    {
      "cell_type": "markdown",
      "id": "e19cc451",
      "metadata": {
        "id": "e19cc451"
      },
      "source": [
        "### 데이터 구성\n",
        "\n",
        "- 데이터는 학습 데이터셋과 테스트 데이터셋으로 구분되어 있다.\n",
        "- 각 데이터에는 userID, assessmentItemID, testId, answerCode, Timestamp, KnowledgeTag의 정보가 있다.\n",
        "- 여기서 assessmentItemID는 문제의 고유 ID이며, answerCode는 사용자가 해당 문제의 정답을 맞췄는지 여부로, 맞췄으면 1, 틀렸으면 0으로 표기된다.\n",
        "- 기본적인 협업 필터링 적용을 위해 본 실습에서는 userID, assessmentItemID, answerCode만을 사용한다."
      ]
    },
    {
      "cell_type": "code",
      "execution_count": 5,
      "id": "d871646a",
      "metadata": {
        "id": "d871646a",
        "outputId": "5ea93d48-8548-4ca7-e906-7e7bbbae7ece"
      },
      "outputs": [
        {
          "name": "stdout",
          "output_type": "stream",
          "text": [
            "Train dataset\n"
          ]
        },
        {
          "data": {
            "text/html": [
              "<div>\n",
              "<style scoped>\n",
              "    .dataframe tbody tr th:only-of-type {\n",
              "        vertical-align: middle;\n",
              "    }\n",
              "\n",
              "    .dataframe tbody tr th {\n",
              "        vertical-align: top;\n",
              "    }\n",
              "\n",
              "    .dataframe thead th {\n",
              "        text-align: right;\n",
              "    }\n",
              "</style>\n",
              "<table border=\"1\" class=\"dataframe\">\n",
              "  <thead>\n",
              "    <tr style=\"text-align: right;\">\n",
              "      <th></th>\n",
              "      <th>userID</th>\n",
              "      <th>assessmentItemID</th>\n",
              "      <th>testId</th>\n",
              "      <th>answerCode</th>\n",
              "      <th>Timestamp</th>\n",
              "      <th>KnowledgeTag</th>\n",
              "    </tr>\n",
              "  </thead>\n",
              "  <tbody>\n",
              "    <tr>\n",
              "      <th>0</th>\n",
              "      <td>0</td>\n",
              "      <td>A060001001</td>\n",
              "      <td>A060000001</td>\n",
              "      <td>1</td>\n",
              "      <td>2020-03-24 00:17:11</td>\n",
              "      <td>7224</td>\n",
              "    </tr>\n",
              "    <tr>\n",
              "      <th>1</th>\n",
              "      <td>0</td>\n",
              "      <td>A060001002</td>\n",
              "      <td>A060000001</td>\n",
              "      <td>1</td>\n",
              "      <td>2020-03-24 00:17:14</td>\n",
              "      <td>7225</td>\n",
              "    </tr>\n",
              "    <tr>\n",
              "      <th>2</th>\n",
              "      <td>0</td>\n",
              "      <td>A060001003</td>\n",
              "      <td>A060000001</td>\n",
              "      <td>1</td>\n",
              "      <td>2020-03-24 00:17:22</td>\n",
              "      <td>7225</td>\n",
              "    </tr>\n",
              "    <tr>\n",
              "      <th>3</th>\n",
              "      <td>0</td>\n",
              "      <td>A060001004</td>\n",
              "      <td>A060000001</td>\n",
              "      <td>1</td>\n",
              "      <td>2020-03-24 00:17:29</td>\n",
              "      <td>7225</td>\n",
              "    </tr>\n",
              "    <tr>\n",
              "      <th>4</th>\n",
              "      <td>0</td>\n",
              "      <td>A060001005</td>\n",
              "      <td>A060000001</td>\n",
              "      <td>1</td>\n",
              "      <td>2020-03-24 00:17:36</td>\n",
              "      <td>7225</td>\n",
              "    </tr>\n",
              "  </tbody>\n",
              "</table>\n",
              "</div>"
            ],
            "text/plain": [
              "   userID assessmentItemID      testId  answerCode            Timestamp  \\\n",
              "0       0       A060001001  A060000001           1  2020-03-24 00:17:11   \n",
              "1       0       A060001002  A060000001           1  2020-03-24 00:17:14   \n",
              "2       0       A060001003  A060000001           1  2020-03-24 00:17:22   \n",
              "3       0       A060001004  A060000001           1  2020-03-24 00:17:29   \n",
              "4       0       A060001005  A060000001           1  2020-03-24 00:17:36   \n",
              "\n",
              "   KnowledgeTag  \n",
              "0          7224  \n",
              "1          7225  \n",
              "2          7225  \n",
              "3          7225  \n",
              "4          7225  "
            ]
          },
          "metadata": {},
          "output_type": "display_data"
        },
        {
          "name": "stdout",
          "output_type": "stream",
          "text": [
            " Num. Users    : 6698\n",
            " Max. UserID   : 7441\n",
            " Num. Items    : 9454\n",
            " Num. Records  : 2266586\n",
            "Test dataset\n"
          ]
        },
        {
          "data": {
            "text/html": [
              "<div>\n",
              "<style scoped>\n",
              "    .dataframe tbody tr th:only-of-type {\n",
              "        vertical-align: middle;\n",
              "    }\n",
              "\n",
              "    .dataframe tbody tr th {\n",
              "        vertical-align: top;\n",
              "    }\n",
              "\n",
              "    .dataframe thead th {\n",
              "        text-align: right;\n",
              "    }\n",
              "</style>\n",
              "<table border=\"1\" class=\"dataframe\">\n",
              "  <thead>\n",
              "    <tr style=\"text-align: right;\">\n",
              "      <th></th>\n",
              "      <th>userID</th>\n",
              "      <th>assessmentItemID</th>\n",
              "      <th>testId</th>\n",
              "      <th>answerCode</th>\n",
              "      <th>Timestamp</th>\n",
              "      <th>KnowledgeTag</th>\n",
              "    </tr>\n",
              "  </thead>\n",
              "  <tbody>\n",
              "    <tr>\n",
              "      <th>0</th>\n",
              "      <td>3</td>\n",
              "      <td>A050023001</td>\n",
              "      <td>A050000023</td>\n",
              "      <td>1</td>\n",
              "      <td>2020-01-09 10:56:31</td>\n",
              "      <td>2626</td>\n",
              "    </tr>\n",
              "    <tr>\n",
              "      <th>1</th>\n",
              "      <td>3</td>\n",
              "      <td>A050023002</td>\n",
              "      <td>A050000023</td>\n",
              "      <td>1</td>\n",
              "      <td>2020-01-09 10:56:57</td>\n",
              "      <td>2626</td>\n",
              "    </tr>\n",
              "    <tr>\n",
              "      <th>2</th>\n",
              "      <td>3</td>\n",
              "      <td>A050023003</td>\n",
              "      <td>A050000023</td>\n",
              "      <td>0</td>\n",
              "      <td>2020-01-09 10:58:31</td>\n",
              "      <td>2625</td>\n",
              "    </tr>\n",
              "    <tr>\n",
              "      <th>3</th>\n",
              "      <td>3</td>\n",
              "      <td>A050023004</td>\n",
              "      <td>A050000023</td>\n",
              "      <td>0</td>\n",
              "      <td>2020-01-09 10:58:36</td>\n",
              "      <td>2625</td>\n",
              "    </tr>\n",
              "    <tr>\n",
              "      <th>4</th>\n",
              "      <td>3</td>\n",
              "      <td>A050023006</td>\n",
              "      <td>A050000023</td>\n",
              "      <td>0</td>\n",
              "      <td>2020-01-09 10:58:43</td>\n",
              "      <td>2623</td>\n",
              "    </tr>\n",
              "  </tbody>\n",
              "</table>\n",
              "</div>"
            ],
            "text/plain": [
              "   userID assessmentItemID      testId  answerCode            Timestamp  \\\n",
              "0       3       A050023001  A050000023           1  2020-01-09 10:56:31   \n",
              "1       3       A050023002  A050000023           1  2020-01-09 10:56:57   \n",
              "2       3       A050023003  A050000023           0  2020-01-09 10:58:31   \n",
              "3       3       A050023004  A050000023           0  2020-01-09 10:58:36   \n",
              "4       3       A050023006  A050000023           0  2020-01-09 10:58:43   \n",
              "\n",
              "   KnowledgeTag  \n",
              "0          2626  \n",
              "1          2626  \n",
              "2          2625  \n",
              "3          2625  \n",
              "4          2623  "
            ]
          },
          "metadata": {},
          "output_type": "display_data"
        },
        {
          "name": "stdout",
          "output_type": "stream",
          "text": [
            " Num. Users    : 744\n",
            " Max. UserID   : 7439\n",
            " Num. Items    : 9454\n",
            " Num. Records  : 260114\n"
          ]
        }
      ],
      "source": [
        "userid, itemid = list(set(train_data.userID)), list(set(train_data.assessmentItemID))\n",
        "n_user, n_item = len(userid), len(itemid)\n",
        "\n",
        "print(f\"Train dataset\")\n",
        "display(train_data.head(5))\n",
        "print(f\" Num. Users    : {n_user}\")\n",
        "print(f\" Max. UserID   : {max(userid)}\")\n",
        "print(f\" Num. Items    : {n_item}\")\n",
        "print(f\" Num. Records  : {len(train_data)}\")\n",
        "\n",
        "userid, itemid = list(set(test_data.userID)), list(set(test_data.assessmentItemID))\n",
        "n_user, n_item = len(userid), len(itemid)\n",
        "\n",
        "print(f\"Test dataset\")\n",
        "display(test_data.head(5))\n",
        "print(f\" Num. Users    : {n_user}\")\n",
        "print(f\" Max. UserID   : {max(userid)}\")\n",
        "print(f\" Num. Items    : {n_item}\")\n",
        "print(f\" Num. Records  : {len(test_data)}\")"
      ]
    },
    {
      "cell_type": "code",
      "execution_count": 6,
      "id": "f3404796",
      "metadata": {
        "id": "f3404796",
        "outputId": "dfb9b536-1a8f-4e43-de5e-98b05a6ba1f7"
      },
      "outputs": [
        {
          "data": {
            "text/html": [
              "<div>\n",
              "<style scoped>\n",
              "    .dataframe tbody tr th:only-of-type {\n",
              "        vertical-align: middle;\n",
              "    }\n",
              "\n",
              "    .dataframe tbody tr th {\n",
              "        vertical-align: top;\n",
              "    }\n",
              "\n",
              "    .dataframe thead th {\n",
              "        text-align: right;\n",
              "    }\n",
              "</style>\n",
              "<table border=\"1\" class=\"dataframe\">\n",
              "  <thead>\n",
              "    <tr style=\"text-align: right;\">\n",
              "      <th></th>\n",
              "      <th>userID</th>\n",
              "      <th>assessmentItemID</th>\n",
              "      <th>testId</th>\n",
              "      <th>answerCode</th>\n",
              "      <th>Timestamp</th>\n",
              "      <th>KnowledgeTag</th>\n",
              "    </tr>\n",
              "  </thead>\n",
              "  <tbody>\n",
              "    <tr>\n",
              "      <th>260111</th>\n",
              "      <td>7439</td>\n",
              "      <td>A040130003</td>\n",
              "      <td>A040000130</td>\n",
              "      <td>1</td>\n",
              "      <td>2020-10-14 23:08:02</td>\n",
              "      <td>8244</td>\n",
              "    </tr>\n",
              "    <tr>\n",
              "      <th>260112</th>\n",
              "      <td>7439</td>\n",
              "      <td>A040130004</td>\n",
              "      <td>A040000130</td>\n",
              "      <td>1</td>\n",
              "      <td>2020-10-14 23:09:31</td>\n",
              "      <td>8244</td>\n",
              "    </tr>\n",
              "    <tr>\n",
              "      <th>260113</th>\n",
              "      <td>7439</td>\n",
              "      <td>A040130005</td>\n",
              "      <td>A040000130</td>\n",
              "      <td>-1</td>\n",
              "      <td>2020-10-14 23:10:03</td>\n",
              "      <td>8832</td>\n",
              "    </tr>\n",
              "  </tbody>\n",
              "</table>\n",
              "</div>"
            ],
            "text/plain": [
              "        userID assessmentItemID      testId  answerCode            Timestamp  \\\n",
              "260111    7439       A040130003  A040000130           1  2020-10-14 23:08:02   \n",
              "260112    7439       A040130004  A040000130           1  2020-10-14 23:09:31   \n",
              "260113    7439       A040130005  A040000130          -1  2020-10-14 23:10:03   \n",
              "\n",
              "        KnowledgeTag  \n",
              "260111          8244  \n",
              "260112          8244  \n",
              "260113          8832  "
            ]
          },
          "metadata": {},
          "output_type": "display_data"
        }
      ],
      "source": [
        "display(test_data.tail(3))"
      ]
    },
    {
      "cell_type": "markdown",
      "id": "c1541069",
      "metadata": {
        "id": "c1541069"
      },
      "source": [
        "위와 같이 테스트 데이터셋에서는 answerCode가 -1인 경우가 나타난다. 이는 평가를 위한 것으로 해당 레코드는 제외하고 실습을 수행한다."
      ]
    },
    {
      "cell_type": "markdown",
      "id": "0a3fb752",
      "metadata": {
        "id": "0a3fb752"
      },
      "source": [
        "### Data Preprocessing"
      ]
    },
    {
      "cell_type": "markdown",
      "id": "1bca4154",
      "metadata": {
        "id": "1bca4154"
      },
      "source": [
        "중복 레코드 제거\n",
        " - RS 모델에서는 시간에 따른 변화를 고려하지 않기 때문에 최종 성적만을 바탕으로 평가한다.\n",
        " - 사용자+문제항목을 Unique key로 하여 최종 레코드만을 보존하고 나머지 제거한다."
      ]
    },
    {
      "cell_type": "code",
      "execution_count": 7,
      "id": "b8181d58",
      "metadata": {
        "id": "b8181d58"
      },
      "outputs": [],
      "source": [
        "train_data.drop_duplicates(subset = [\"userID\", \"assessmentItemID\"],\n",
        "                     keep = \"last\", inplace = True)\n",
        "test_data.drop_duplicates(subset = [\"userID\", \"assessmentItemID\"],\n",
        "                     keep = \"last\", inplace = True)"
      ]
    },
    {
      "cell_type": "markdown",
      "id": "b9b78bd3",
      "metadata": {
        "id": "b9b78bd3"
      },
      "source": [
        "불필요한 column 제거\n",
        "- 다음과 같이 pandas에서는 불필요한 column을 제거할 수 있다."
      ]
    },
    {
      "cell_type": "code",
      "execution_count": 8,
      "id": "64cea7f7",
      "metadata": {
        "id": "64cea7f7",
        "outputId": "88bbda2b-1925-4d30-f49d-1a940ef5df4c"
      },
      "outputs": [
        {
          "data": {
            "text/html": [
              "<div>\n",
              "<style scoped>\n",
              "    .dataframe tbody tr th:only-of-type {\n",
              "        vertical-align: middle;\n",
              "    }\n",
              "\n",
              "    .dataframe tbody tr th {\n",
              "        vertical-align: top;\n",
              "    }\n",
              "\n",
              "    .dataframe thead th {\n",
              "        text-align: right;\n",
              "    }\n",
              "</style>\n",
              "<table border=\"1\" class=\"dataframe\">\n",
              "  <thead>\n",
              "    <tr style=\"text-align: right;\">\n",
              "      <th></th>\n",
              "      <th>userID</th>\n",
              "      <th>assessmentItemID</th>\n",
              "      <th>answerCode</th>\n",
              "    </tr>\n",
              "  </thead>\n",
              "  <tbody>\n",
              "    <tr>\n",
              "      <th>0</th>\n",
              "      <td>0</td>\n",
              "      <td>A060001001</td>\n",
              "      <td>1</td>\n",
              "    </tr>\n",
              "    <tr>\n",
              "      <th>1</th>\n",
              "      <td>0</td>\n",
              "      <td>A060001002</td>\n",
              "      <td>1</td>\n",
              "    </tr>\n",
              "    <tr>\n",
              "      <th>2</th>\n",
              "      <td>0</td>\n",
              "      <td>A060001003</td>\n",
              "      <td>1</td>\n",
              "    </tr>\n",
              "    <tr>\n",
              "      <th>3</th>\n",
              "      <td>0</td>\n",
              "      <td>A060001004</td>\n",
              "      <td>1</td>\n",
              "    </tr>\n",
              "    <tr>\n",
              "      <th>4</th>\n",
              "      <td>0</td>\n",
              "      <td>A060001005</td>\n",
              "      <td>1</td>\n",
              "    </tr>\n",
              "    <tr>\n",
              "      <th>5</th>\n",
              "      <td>0</td>\n",
              "      <td>A060001007</td>\n",
              "      <td>1</td>\n",
              "    </tr>\n",
              "    <tr>\n",
              "      <th>6</th>\n",
              "      <td>0</td>\n",
              "      <td>A060003001</td>\n",
              "      <td>0</td>\n",
              "    </tr>\n",
              "    <tr>\n",
              "      <th>7</th>\n",
              "      <td>0</td>\n",
              "      <td>A060003002</td>\n",
              "      <td>1</td>\n",
              "    </tr>\n",
              "    <tr>\n",
              "      <th>8</th>\n",
              "      <td>0</td>\n",
              "      <td>A060003003</td>\n",
              "      <td>1</td>\n",
              "    </tr>\n",
              "    <tr>\n",
              "      <th>9</th>\n",
              "      <td>0</td>\n",
              "      <td>A060003004</td>\n",
              "      <td>1</td>\n",
              "    </tr>\n",
              "  </tbody>\n",
              "</table>\n",
              "</div>"
            ],
            "text/plain": [
              "   userID assessmentItemID  answerCode\n",
              "0       0       A060001001           1\n",
              "1       0       A060001002           1\n",
              "2       0       A060001003           1\n",
              "3       0       A060001004           1\n",
              "4       0       A060001005           1\n",
              "5       0       A060001007           1\n",
              "6       0       A060003001           0\n",
              "7       0       A060003002           1\n",
              "8       0       A060003003           1\n",
              "9       0       A060003004           1"
            ]
          },
          "execution_count": 8,
          "metadata": {},
          "output_type": "execute_result"
        }
      ],
      "source": [
        "train_data.drop(['Timestamp','testId','KnowledgeTag'],\n",
        "                axis=1, inplace=True, errors='ignore')\n",
        "train_data.head(10)"
      ]
    },
    {
      "cell_type": "markdown",
      "id": "a5dc7776",
      "metadata": {
        "id": "a5dc7776"
      },
      "source": [
        "평가 항목 제거\n",
        "- 테스트 데이터셋에서 answerCode가 -1인 항목은 최종 평가시 사용되는 항목으로 여기에선 사용할 수 없다.\n",
        "- 아래 결과에서와 같이 User, Item 수는 변화 없이 총 레코드 수만 변한다."
      ]
    },
    {
      "cell_type": "code",
      "execution_count": 9,
      "id": "57ce13ff",
      "metadata": {
        "id": "57ce13ff",
        "outputId": "2d2b096a-bf7f-415b-e835-b8fb7ddc468a"
      },
      "outputs": [
        {
          "data": {
            "text/html": [
              "<div>\n",
              "<style scoped>\n",
              "    .dataframe tbody tr th:only-of-type {\n",
              "        vertical-align: middle;\n",
              "    }\n",
              "\n",
              "    .dataframe tbody tr th {\n",
              "        vertical-align: top;\n",
              "    }\n",
              "\n",
              "    .dataframe thead th {\n",
              "        text-align: right;\n",
              "    }\n",
              "</style>\n",
              "<table border=\"1\" class=\"dataframe\">\n",
              "  <thead>\n",
              "    <tr style=\"text-align: right;\">\n",
              "      <th></th>\n",
              "      <th>userID</th>\n",
              "      <th>assessmentItemID</th>\n",
              "      <th>testId</th>\n",
              "      <th>answerCode</th>\n",
              "      <th>Timestamp</th>\n",
              "      <th>KnowledgeTag</th>\n",
              "    </tr>\n",
              "  </thead>\n",
              "  <tbody>\n",
              "    <tr>\n",
              "      <th>260108</th>\n",
              "      <td>7439</td>\n",
              "      <td>A040197006</td>\n",
              "      <td>A040000197</td>\n",
              "      <td>1</td>\n",
              "      <td>2020-08-21 07:39:45</td>\n",
              "      <td>2132</td>\n",
              "    </tr>\n",
              "    <tr>\n",
              "      <th>260109</th>\n",
              "      <td>7439</td>\n",
              "      <td>A040130001</td>\n",
              "      <td>A040000130</td>\n",
              "      <td>0</td>\n",
              "      <td>2020-10-14 23:07:23</td>\n",
              "      <td>8832</td>\n",
              "    </tr>\n",
              "    <tr>\n",
              "      <th>260110</th>\n",
              "      <td>7439</td>\n",
              "      <td>A040130002</td>\n",
              "      <td>A040000130</td>\n",
              "      <td>1</td>\n",
              "      <td>2020-10-14 23:07:41</td>\n",
              "      <td>8832</td>\n",
              "    </tr>\n",
              "    <tr>\n",
              "      <th>260111</th>\n",
              "      <td>7439</td>\n",
              "      <td>A040130003</td>\n",
              "      <td>A040000130</td>\n",
              "      <td>1</td>\n",
              "      <td>2020-10-14 23:08:02</td>\n",
              "      <td>8244</td>\n",
              "    </tr>\n",
              "    <tr>\n",
              "      <th>260112</th>\n",
              "      <td>7439</td>\n",
              "      <td>A040130004</td>\n",
              "      <td>A040000130</td>\n",
              "      <td>1</td>\n",
              "      <td>2020-10-14 23:09:31</td>\n",
              "      <td>8244</td>\n",
              "    </tr>\n",
              "  </tbody>\n",
              "</table>\n",
              "</div>"
            ],
            "text/plain": [
              "        userID assessmentItemID      testId  answerCode            Timestamp  \\\n",
              "260108    7439       A040197006  A040000197           1  2020-08-21 07:39:45   \n",
              "260109    7439       A040130001  A040000130           0  2020-10-14 23:07:23   \n",
              "260110    7439       A040130002  A040000130           1  2020-10-14 23:07:41   \n",
              "260111    7439       A040130003  A040000130           1  2020-10-14 23:08:02   \n",
              "260112    7439       A040130004  A040000130           1  2020-10-14 23:09:31   \n",
              "\n",
              "        KnowledgeTag  \n",
              "260108          2132  \n",
              "260109          8832  \n",
              "260110          8832  \n",
              "260111          8244  \n",
              "260112          8244  "
            ]
          },
          "metadata": {},
          "output_type": "display_data"
        },
        {
          "name": "stdout",
          "output_type": "stream",
          "text": [
            " Num. Users    : 744->744\n",
            " Max. UserID   : 7439\n",
            " Num. Items    : 9454->9454\n",
            " Num. Records  : 256073->255329\n"
          ]
        }
      ],
      "source": [
        "test_data_old = test_data.copy()\n",
        "n_user_old, n_item_old = n_user, n_item\n",
        "\n",
        "test_data  = test_data[test_data.answerCode>=0].copy()\n",
        "\n",
        "userid, itemid = list(set(test_data.userID)), list(set(test_data.assessmentItemID))\n",
        "n_user, n_item = len(userid), len(itemid)\n",
        "\n",
        "display(test_data.tail(5))\n",
        "print(f\" Num. Users    : {n_user}->{n_user}\")\n",
        "print(f\" Max. UserID   : {max(userid)}\")\n",
        "print(f\" Num. Items    : {n_item}->{n_item}\")\n",
        "print(f\" Num. Records  : {len(test_data_old)}->{len(test_data)}\")"
      ]
    },
    {
      "cell_type": "markdown",
      "id": "a08ab5f8",
      "metadata": {
        "id": "a08ab5f8"
      },
      "source": [
        "평가 항목 신규 생성\n",
        "- 남은 테스트 항목 중, 각 사용자별 최종 레코드를 새로운 평가 항목으로 정한다."
      ]
    },
    {
      "cell_type": "code",
      "execution_count": 10,
      "id": "797ee154",
      "metadata": {
        "id": "797ee154",
        "outputId": "48c94694-d837-4ff4-fa73-9072f351b4fb"
      },
      "outputs": [
        {
          "data": {
            "text/html": [
              "<div>\n",
              "<style scoped>\n",
              "    .dataframe tbody tr th:only-of-type {\n",
              "        vertical-align: middle;\n",
              "    }\n",
              "\n",
              "    .dataframe tbody tr th {\n",
              "        vertical-align: top;\n",
              "    }\n",
              "\n",
              "    .dataframe thead th {\n",
              "        text-align: right;\n",
              "    }\n",
              "</style>\n",
              "<table border=\"1\" class=\"dataframe\">\n",
              "  <thead>\n",
              "    <tr style=\"text-align: right;\">\n",
              "      <th></th>\n",
              "      <th>userID</th>\n",
              "      <th>assessmentItemID</th>\n",
              "      <th>testId</th>\n",
              "      <th>answerCode</th>\n",
              "      <th>Timestamp</th>\n",
              "      <th>KnowledgeTag</th>\n",
              "    </tr>\n",
              "  </thead>\n",
              "  <tbody>\n",
              "    <tr>\n",
              "      <th>1034</th>\n",
              "      <td>3</td>\n",
              "      <td>A050133007</td>\n",
              "      <td>A050000133</td>\n",
              "      <td>0</td>\n",
              "      <td>2020-10-26 13:13:11</td>\n",
              "      <td>5289</td>\n",
              "    </tr>\n",
              "    <tr>\n",
              "      <th>1705</th>\n",
              "      <td>4</td>\n",
              "      <td>A070146007</td>\n",
              "      <td>A070000146</td>\n",
              "      <td>1</td>\n",
              "      <td>2020-12-27 02:47:31</td>\n",
              "      <td>9080</td>\n",
              "    </tr>\n",
              "    <tr>\n",
              "      <th>3022</th>\n",
              "      <td>13</td>\n",
              "      <td>A070111007</td>\n",
              "      <td>A070000111</td>\n",
              "      <td>1</td>\n",
              "      <td>2020-12-27 04:35:01</td>\n",
              "      <td>9660</td>\n",
              "    </tr>\n",
              "    <tr>\n",
              "      <th>4282</th>\n",
              "      <td>17</td>\n",
              "      <td>A090064005</td>\n",
              "      <td>A090000064</td>\n",
              "      <td>1</td>\n",
              "      <td>2020-10-30 05:47:22</td>\n",
              "      <td>2611</td>\n",
              "    </tr>\n",
              "    <tr>\n",
              "      <th>4669</th>\n",
              "      <td>26</td>\n",
              "      <td>A060135006</td>\n",
              "      <td>A060000135</td>\n",
              "      <td>0</td>\n",
              "      <td>2020-10-23 11:44:01</td>\n",
              "      <td>1422</td>\n",
              "    </tr>\n",
              "  </tbody>\n",
              "</table>\n",
              "</div>"
            ],
            "text/plain": [
              "      userID assessmentItemID      testId  answerCode            Timestamp  \\\n",
              "1034       3       A050133007  A050000133           0  2020-10-26 13:13:11   \n",
              "1705       4       A070146007  A070000146           1  2020-12-27 02:47:31   \n",
              "3022      13       A070111007  A070000111           1  2020-12-27 04:35:01   \n",
              "4282      17       A090064005  A090000064           1  2020-10-30 05:47:22   \n",
              "4669      26       A060135006  A060000135           0  2020-10-23 11:44:01   \n",
              "\n",
              "      KnowledgeTag  \n",
              "1034          5289  \n",
              "1705          9080  \n",
              "3022          9660  \n",
              "4282          2611  \n",
              "4669          1422  "
            ]
          },
          "metadata": {},
          "output_type": "display_data"
        },
        {
          "data": {
            "text/html": [
              "<div>\n",
              "<style scoped>\n",
              "    .dataframe tbody tr th:only-of-type {\n",
              "        vertical-align: middle;\n",
              "    }\n",
              "\n",
              "    .dataframe tbody tr th {\n",
              "        vertical-align: top;\n",
              "    }\n",
              "\n",
              "    .dataframe thead th {\n",
              "        text-align: right;\n",
              "    }\n",
              "</style>\n",
              "<table border=\"1\" class=\"dataframe\">\n",
              "  <thead>\n",
              "    <tr style=\"text-align: right;\">\n",
              "      <th></th>\n",
              "      <th>userID</th>\n",
              "      <th>assessmentItemID</th>\n",
              "      <th>testId</th>\n",
              "      <th>answerCode</th>\n",
              "      <th>Timestamp</th>\n",
              "      <th>KnowledgeTag</th>\n",
              "    </tr>\n",
              "  </thead>\n",
              "  <tbody>\n",
              "    <tr>\n",
              "      <th>260051</th>\n",
              "      <td>7395</td>\n",
              "      <td>A040122004</td>\n",
              "      <td>A040000122</td>\n",
              "      <td>0</td>\n",
              "      <td>2020-09-08 02:05:18</td>\n",
              "      <td>2102</td>\n",
              "    </tr>\n",
              "    <tr>\n",
              "      <th>260066</th>\n",
              "      <td>7404</td>\n",
              "      <td>A030111004</td>\n",
              "      <td>A030000111</td>\n",
              "      <td>1</td>\n",
              "      <td>2020-10-13 09:47:31</td>\n",
              "      <td>7636</td>\n",
              "    </tr>\n",
              "    <tr>\n",
              "      <th>260081</th>\n",
              "      <td>7416</td>\n",
              "      <td>A050193003</td>\n",
              "      <td>A050000193</td>\n",
              "      <td>0</td>\n",
              "      <td>2020-10-04 02:44:17</td>\n",
              "      <td>10402</td>\n",
              "    </tr>\n",
              "    <tr>\n",
              "      <th>260096</th>\n",
              "      <td>7417</td>\n",
              "      <td>A050193003</td>\n",
              "      <td>A050000193</td>\n",
              "      <td>0</td>\n",
              "      <td>2020-09-06 13:08:54</td>\n",
              "      <td>10402</td>\n",
              "    </tr>\n",
              "    <tr>\n",
              "      <th>260112</th>\n",
              "      <td>7439</td>\n",
              "      <td>A040130004</td>\n",
              "      <td>A040000130</td>\n",
              "      <td>1</td>\n",
              "      <td>2020-10-14 23:09:31</td>\n",
              "      <td>8244</td>\n",
              "    </tr>\n",
              "  </tbody>\n",
              "</table>\n",
              "</div>"
            ],
            "text/plain": [
              "        userID assessmentItemID      testId  answerCode            Timestamp  \\\n",
              "260051    7395       A040122004  A040000122           0  2020-09-08 02:05:18   \n",
              "260066    7404       A030111004  A030000111           1  2020-10-13 09:47:31   \n",
              "260081    7416       A050193003  A050000193           0  2020-10-04 02:44:17   \n",
              "260096    7417       A050193003  A050000193           0  2020-09-06 13:08:54   \n",
              "260112    7439       A040130004  A040000130           1  2020-10-14 23:09:31   \n",
              "\n",
              "        KnowledgeTag  \n",
              "260051          2102  \n",
              "260066          7636  \n",
              "260081         10402  \n",
              "260096         10402  \n",
              "260112          8244  "
            ]
          },
          "metadata": {},
          "output_type": "display_data"
        },
        {
          "name": "stdout",
          "output_type": "stream",
          "text": [
            " Num. Records  : 744\n"
          ]
        }
      ],
      "source": [
        "eval_data = test_data.copy()\n",
        "eval_data.drop_duplicates(subset = [\"userID\"],\n",
        "                     keep = \"last\", inplace = True)\n",
        "display(eval_data.head(5))\n",
        "display(eval_data.tail(5))\n",
        "print(f\" Num. Records  : {len(eval_data)}\")"
      ]
    },
    {
      "cell_type": "markdown",
      "id": "85734aee",
      "metadata": {
        "id": "85734aee"
      },
      "source": [
        "평가 항목을 테스트 항목에서 제거한다."
      ]
    },
    {
      "cell_type": "code",
      "execution_count": 11,
      "id": "751b2df7",
      "metadata": {
        "id": "751b2df7",
        "outputId": "78a0db8a-c158-4302-96db-1a6fb9020f21"
      },
      "outputs": [
        {
          "data": {
            "text/html": [
              "<div>\n",
              "<style scoped>\n",
              "    .dataframe tbody tr th:only-of-type {\n",
              "        vertical-align: middle;\n",
              "    }\n",
              "\n",
              "    .dataframe tbody tr th {\n",
              "        vertical-align: top;\n",
              "    }\n",
              "\n",
              "    .dataframe thead th {\n",
              "        text-align: right;\n",
              "    }\n",
              "</style>\n",
              "<table border=\"1\" class=\"dataframe\">\n",
              "  <thead>\n",
              "    <tr style=\"text-align: right;\">\n",
              "      <th></th>\n",
              "      <th>userID</th>\n",
              "      <th>assessmentItemID</th>\n",
              "      <th>testId</th>\n",
              "      <th>answerCode</th>\n",
              "      <th>Timestamp</th>\n",
              "      <th>KnowledgeTag</th>\n",
              "    </tr>\n",
              "  </thead>\n",
              "  <tbody>\n",
              "    <tr>\n",
              "      <th>260107</th>\n",
              "      <td>7439</td>\n",
              "      <td>A040197005</td>\n",
              "      <td>A040000197</td>\n",
              "      <td>0</td>\n",
              "      <td>2020-08-21 07:39:40</td>\n",
              "      <td>2132</td>\n",
              "    </tr>\n",
              "    <tr>\n",
              "      <th>260108</th>\n",
              "      <td>7439</td>\n",
              "      <td>A040197006</td>\n",
              "      <td>A040000197</td>\n",
              "      <td>1</td>\n",
              "      <td>2020-08-21 07:39:45</td>\n",
              "      <td>2132</td>\n",
              "    </tr>\n",
              "    <tr>\n",
              "      <th>260109</th>\n",
              "      <td>7439</td>\n",
              "      <td>A040130001</td>\n",
              "      <td>A040000130</td>\n",
              "      <td>0</td>\n",
              "      <td>2020-10-14 23:07:23</td>\n",
              "      <td>8832</td>\n",
              "    </tr>\n",
              "    <tr>\n",
              "      <th>260110</th>\n",
              "      <td>7439</td>\n",
              "      <td>A040130002</td>\n",
              "      <td>A040000130</td>\n",
              "      <td>1</td>\n",
              "      <td>2020-10-14 23:07:41</td>\n",
              "      <td>8832</td>\n",
              "    </tr>\n",
              "    <tr>\n",
              "      <th>260111</th>\n",
              "      <td>7439</td>\n",
              "      <td>A040130003</td>\n",
              "      <td>A040000130</td>\n",
              "      <td>1</td>\n",
              "      <td>2020-10-14 23:08:02</td>\n",
              "      <td>8244</td>\n",
              "    </tr>\n",
              "  </tbody>\n",
              "</table>\n",
              "</div>"
            ],
            "text/plain": [
              "        userID assessmentItemID      testId  answerCode            Timestamp  \\\n",
              "260107    7439       A040197005  A040000197           0  2020-08-21 07:39:40   \n",
              "260108    7439       A040197006  A040000197           1  2020-08-21 07:39:45   \n",
              "260109    7439       A040130001  A040000130           0  2020-10-14 23:07:23   \n",
              "260110    7439       A040130002  A040000130           1  2020-10-14 23:07:41   \n",
              "260111    7439       A040130003  A040000130           1  2020-10-14 23:08:02   \n",
              "\n",
              "        KnowledgeTag  \n",
              "260107          2132  \n",
              "260108          2132  \n",
              "260109          8832  \n",
              "260110          8832  \n",
              "260111          8244  "
            ]
          },
          "metadata": {},
          "output_type": "display_data"
        },
        {
          "name": "stdout",
          "output_type": "stream",
          "text": [
            " Num. Records  : 254585\n"
          ]
        }
      ],
      "source": [
        "test_data.drop(index=eval_data.index, inplace=True, errors='ignore')\n",
        "display(test_data.tail(5))\n",
        "print(f\" Num. Records  : {len(test_data)}\")"
      ]
    },
    {
      "cell_type": "markdown",
      "id": "e77aa92f",
      "metadata": {
        "id": "e77aa92f"
      },
      "source": [
        "사용자 - 문제항목 관계를 pivot 테이블로 변경\n",
        " - 각 사용자별로 해당 문제를 맞췄는지 여부를 matrix 형태로 변경\n",
        " - 해당 문제를 푼 적이 없는 경우 0.5(예시)으로 설정"
      ]
    },
    {
      "cell_type": "code",
      "execution_count": 12,
      "id": "da1b5895",
      "metadata": {
        "id": "da1b5895",
        "outputId": "e14bdd94-62cd-4f40-ada5-54507d27f1be"
      },
      "outputs": [
        {
          "data": {
            "text/html": [
              "<div>\n",
              "<style scoped>\n",
              "    .dataframe tbody tr th:only-of-type {\n",
              "        vertical-align: middle;\n",
              "    }\n",
              "\n",
              "    .dataframe tbody tr th {\n",
              "        vertical-align: top;\n",
              "    }\n",
              "\n",
              "    .dataframe thead th {\n",
              "        text-align: right;\n",
              "    }\n",
              "</style>\n",
              "<table border=\"1\" class=\"dataframe\">\n",
              "  <thead>\n",
              "    <tr style=\"text-align: right;\">\n",
              "      <th>assessmentItemID</th>\n",
              "      <th>A010001001</th>\n",
              "      <th>A010001002</th>\n",
              "      <th>A010001003</th>\n",
              "      <th>A010001004</th>\n",
              "      <th>A010001005</th>\n",
              "      <th>A010002001</th>\n",
              "      <th>A010002002</th>\n",
              "      <th>A010002003</th>\n",
              "      <th>A010002004</th>\n",
              "      <th>A010002005</th>\n",
              "      <th>...</th>\n",
              "      <th>A090073003</th>\n",
              "      <th>A090073004</th>\n",
              "      <th>A090073005</th>\n",
              "      <th>A090073006</th>\n",
              "      <th>A090074001</th>\n",
              "      <th>A090074002</th>\n",
              "      <th>A090074003</th>\n",
              "      <th>A090074004</th>\n",
              "      <th>A090074005</th>\n",
              "      <th>A090074006</th>\n",
              "    </tr>\n",
              "    <tr>\n",
              "      <th>userID</th>\n",
              "      <th></th>\n",
              "      <th></th>\n",
              "      <th></th>\n",
              "      <th></th>\n",
              "      <th></th>\n",
              "      <th></th>\n",
              "      <th></th>\n",
              "      <th></th>\n",
              "      <th></th>\n",
              "      <th></th>\n",
              "      <th></th>\n",
              "      <th></th>\n",
              "      <th></th>\n",
              "      <th></th>\n",
              "      <th></th>\n",
              "      <th></th>\n",
              "      <th></th>\n",
              "      <th></th>\n",
              "      <th></th>\n",
              "      <th></th>\n",
              "      <th></th>\n",
              "    </tr>\n",
              "  </thead>\n",
              "  <tbody>\n",
              "    <tr>\n",
              "      <th>0</th>\n",
              "      <td>0.5</td>\n",
              "      <td>0.5</td>\n",
              "      <td>0.5</td>\n",
              "      <td>0.5</td>\n",
              "      <td>0.5</td>\n",
              "      <td>0.5</td>\n",
              "      <td>0.5</td>\n",
              "      <td>0.5</td>\n",
              "      <td>0.5</td>\n",
              "      <td>0.5</td>\n",
              "      <td>...</td>\n",
              "      <td>0.5</td>\n",
              "      <td>0.5</td>\n",
              "      <td>0.5</td>\n",
              "      <td>0.5</td>\n",
              "      <td>0.5</td>\n",
              "      <td>0.5</td>\n",
              "      <td>0.5</td>\n",
              "      <td>0.5</td>\n",
              "      <td>0.5</td>\n",
              "      <td>0.5</td>\n",
              "    </tr>\n",
              "    <tr>\n",
              "      <th>1</th>\n",
              "      <td>0.5</td>\n",
              "      <td>0.5</td>\n",
              "      <td>0.5</td>\n",
              "      <td>0.5</td>\n",
              "      <td>0.5</td>\n",
              "      <td>0.5</td>\n",
              "      <td>0.5</td>\n",
              "      <td>0.5</td>\n",
              "      <td>0.5</td>\n",
              "      <td>0.5</td>\n",
              "      <td>...</td>\n",
              "      <td>1.0</td>\n",
              "      <td>1.0</td>\n",
              "      <td>1.0</td>\n",
              "      <td>1.0</td>\n",
              "      <td>0.0</td>\n",
              "      <td>1.0</td>\n",
              "      <td>1.0</td>\n",
              "      <td>1.0</td>\n",
              "      <td>1.0</td>\n",
              "      <td>1.0</td>\n",
              "    </tr>\n",
              "    <tr>\n",
              "      <th>2</th>\n",
              "      <td>0.5</td>\n",
              "      <td>0.5</td>\n",
              "      <td>0.5</td>\n",
              "      <td>0.5</td>\n",
              "      <td>0.5</td>\n",
              "      <td>0.5</td>\n",
              "      <td>0.5</td>\n",
              "      <td>0.5</td>\n",
              "      <td>0.5</td>\n",
              "      <td>0.5</td>\n",
              "      <td>...</td>\n",
              "      <td>0.5</td>\n",
              "      <td>0.5</td>\n",
              "      <td>0.5</td>\n",
              "      <td>0.5</td>\n",
              "      <td>0.5</td>\n",
              "      <td>0.5</td>\n",
              "      <td>0.5</td>\n",
              "      <td>0.5</td>\n",
              "      <td>0.5</td>\n",
              "      <td>0.5</td>\n",
              "    </tr>\n",
              "    <tr>\n",
              "      <th>5</th>\n",
              "      <td>0.5</td>\n",
              "      <td>0.5</td>\n",
              "      <td>0.5</td>\n",
              "      <td>0.5</td>\n",
              "      <td>0.5</td>\n",
              "      <td>0.5</td>\n",
              "      <td>0.5</td>\n",
              "      <td>0.5</td>\n",
              "      <td>0.5</td>\n",
              "      <td>0.5</td>\n",
              "      <td>...</td>\n",
              "      <td>0.5</td>\n",
              "      <td>0.5</td>\n",
              "      <td>0.5</td>\n",
              "      <td>0.5</td>\n",
              "      <td>0.5</td>\n",
              "      <td>0.5</td>\n",
              "      <td>0.5</td>\n",
              "      <td>0.5</td>\n",
              "      <td>0.5</td>\n",
              "      <td>0.5</td>\n",
              "    </tr>\n",
              "    <tr>\n",
              "      <th>6</th>\n",
              "      <td>0.5</td>\n",
              "      <td>0.5</td>\n",
              "      <td>0.5</td>\n",
              "      <td>0.5</td>\n",
              "      <td>0.5</td>\n",
              "      <td>0.5</td>\n",
              "      <td>0.5</td>\n",
              "      <td>0.5</td>\n",
              "      <td>0.5</td>\n",
              "      <td>0.5</td>\n",
              "      <td>...</td>\n",
              "      <td>0.5</td>\n",
              "      <td>0.5</td>\n",
              "      <td>0.5</td>\n",
              "      <td>0.5</td>\n",
              "      <td>0.5</td>\n",
              "      <td>0.5</td>\n",
              "      <td>0.5</td>\n",
              "      <td>0.5</td>\n",
              "      <td>0.5</td>\n",
              "      <td>0.5</td>\n",
              "    </tr>\n",
              "  </tbody>\n",
              "</table>\n",
              "<p>5 rows × 9454 columns</p>\n",
              "</div>"
            ],
            "text/plain": [
              "assessmentItemID  A010001001  A010001002  A010001003  A010001004  A010001005  \\\n",
              "userID                                                                         \n",
              "0                        0.5         0.5         0.5         0.5         0.5   \n",
              "1                        0.5         0.5         0.5         0.5         0.5   \n",
              "2                        0.5         0.5         0.5         0.5         0.5   \n",
              "5                        0.5         0.5         0.5         0.5         0.5   \n",
              "6                        0.5         0.5         0.5         0.5         0.5   \n",
              "\n",
              "assessmentItemID  A010002001  A010002002  A010002003  A010002004  A010002005  \\\n",
              "userID                                                                         \n",
              "0                        0.5         0.5         0.5         0.5         0.5   \n",
              "1                        0.5         0.5         0.5         0.5         0.5   \n",
              "2                        0.5         0.5         0.5         0.5         0.5   \n",
              "5                        0.5         0.5         0.5         0.5         0.5   \n",
              "6                        0.5         0.5         0.5         0.5         0.5   \n",
              "\n",
              "assessmentItemID  ...  A090073003  A090073004  A090073005  A090073006  \\\n",
              "userID            ...                                                   \n",
              "0                 ...         0.5         0.5         0.5         0.5   \n",
              "1                 ...         1.0         1.0         1.0         1.0   \n",
              "2                 ...         0.5         0.5         0.5         0.5   \n",
              "5                 ...         0.5         0.5         0.5         0.5   \n",
              "6                 ...         0.5         0.5         0.5         0.5   \n",
              "\n",
              "assessmentItemID  A090074001  A090074002  A090074003  A090074004  A090074005  \\\n",
              "userID                                                                         \n",
              "0                        0.5         0.5         0.5         0.5         0.5   \n",
              "1                        0.0         1.0         1.0         1.0         1.0   \n",
              "2                        0.5         0.5         0.5         0.5         0.5   \n",
              "5                        0.5         0.5         0.5         0.5         0.5   \n",
              "6                        0.5         0.5         0.5         0.5         0.5   \n",
              "\n",
              "assessmentItemID  A090074006  \n",
              "userID                        \n",
              "0                        0.5  \n",
              "1                        1.0  \n",
              "2                        0.5  \n",
              "5                        0.5  \n",
              "6                        0.5  \n",
              "\n",
              "[5 rows x 9454 columns]"
            ]
          },
          "metadata": {},
          "output_type": "display_data"
        },
        {
          "name": "stdout",
          "output_type": "stream",
          "text": [
            "Result Shape is (6698, 9454)\n"
          ]
        }
      ],
      "source": [
        "matrix_train = train_data.pivot_table('answerCode', index='userID', columns='assessmentItemID')\n",
        "matrix_train.fillna(0.5, inplace=True)\n",
        "display(matrix_train.head(5))\n",
        "print(f\"Result Shape is {matrix_train.shape}\")"
      ]
    },
    {
      "cell_type": "markdown",
      "id": "034ae9cb",
      "metadata": {
        "id": "034ae9cb"
      },
      "source": [
        "## 🎯 SVD 분석"
      ]
    },
    {
      "cell_type": "markdown",
      "id": "ef842686",
      "metadata": {
        "id": "ef842686"
      },
      "source": [
        "### 데이터 인덱스 매핑 생성"
      ]
    },
    {
      "cell_type": "markdown",
      "id": "fe7b42e9",
      "metadata": {
        "id": "fe7b42e9"
      },
      "source": [
        "사용자/문제항목 ID와 table상에서의 index를 매칭시키기 위한 lookup table을 dictionary 형태로 생성"
      ]
    },
    {
      "cell_type": "code",
      "execution_count": 13,
      "id": "df1ddbc3",
      "metadata": {
        "id": "df1ddbc3"
      },
      "outputs": [],
      "source": [
        "user_id2idx = {v:i for i,v in enumerate(matrix_train.index)}\n",
        "user_idx2id = {i:v for i,v in enumerate(matrix_train.index)}\n",
        "\n",
        "item_id2idx = {v:i for i,v in enumerate(matrix_train.columns)}\n",
        "item_idx2id = {i:v for i,v in enumerate(matrix_train.columns)}"
      ]
    },
    {
      "cell_type": "markdown",
      "id": "340d0c40",
      "metadata": {
        "id": "340d0c40"
      },
      "source": [
        "### S"
      ]
    },
    {
      "cell_type": "markdown",
      "id": "84a4e4d7",
      "metadata": {
        "id": "84a4e4d7"
      },
      "source": [
        "사용자 - 문제항목의 pivot table을 normalize된 matrix로 변경\n",
        "\n",
        "$A = ${User - Item 간의 value를 저장하는 matrix}\n",
        "\n",
        "$A = R^{n_{user} \\times n_{item}}$"
      ]
    },
    {
      "cell_type": "code",
      "execution_count": 14,
      "id": "f163ddac",
      "metadata": {
        "id": "f163ddac",
        "outputId": "170451d1-9034-448e-92cb-99c70f9b2a4a"
      },
      "outputs": [
        {
          "data": {
            "text/html": [
              "<div>\n",
              "<style scoped>\n",
              "    .dataframe tbody tr th:only-of-type {\n",
              "        vertical-align: middle;\n",
              "    }\n",
              "\n",
              "    .dataframe tbody tr th {\n",
              "        vertical-align: top;\n",
              "    }\n",
              "\n",
              "    .dataframe thead th {\n",
              "        text-align: right;\n",
              "    }\n",
              "</style>\n",
              "<table border=\"1\" class=\"dataframe\">\n",
              "  <thead>\n",
              "    <tr style=\"text-align: right;\">\n",
              "      <th>assessmentItemID</th>\n",
              "      <th>A010001001</th>\n",
              "      <th>A010001002</th>\n",
              "      <th>A010001003</th>\n",
              "      <th>A010001004</th>\n",
              "      <th>A010001005</th>\n",
              "      <th>A010002001</th>\n",
              "      <th>A010002002</th>\n",
              "      <th>A010002003</th>\n",
              "      <th>A010002004</th>\n",
              "      <th>A010002005</th>\n",
              "      <th>...</th>\n",
              "      <th>A090073003</th>\n",
              "      <th>A090073004</th>\n",
              "      <th>A090073005</th>\n",
              "      <th>A090073006</th>\n",
              "      <th>A090074001</th>\n",
              "      <th>A090074002</th>\n",
              "      <th>A090074003</th>\n",
              "      <th>A090074004</th>\n",
              "      <th>A090074005</th>\n",
              "      <th>A090074006</th>\n",
              "    </tr>\n",
              "  </thead>\n",
              "  <tbody>\n",
              "    <tr>\n",
              "      <th>0</th>\n",
              "      <td>-0.010313</td>\n",
              "      <td>-0.010313</td>\n",
              "      <td>-0.010313</td>\n",
              "      <td>-0.010313</td>\n",
              "      <td>-0.010313</td>\n",
              "      <td>-0.010313</td>\n",
              "      <td>-0.010313</td>\n",
              "      <td>-0.010313</td>\n",
              "      <td>-0.010313</td>\n",
              "      <td>-0.010313</td>\n",
              "      <td>...</td>\n",
              "      <td>-0.010313</td>\n",
              "      <td>-0.010313</td>\n",
              "      <td>-0.010313</td>\n",
              "      <td>-0.010313</td>\n",
              "      <td>-0.010313</td>\n",
              "      <td>-0.010313</td>\n",
              "      <td>-0.010313</td>\n",
              "      <td>-0.010313</td>\n",
              "      <td>-0.010313</td>\n",
              "      <td>-0.010313</td>\n",
              "    </tr>\n",
              "    <tr>\n",
              "      <th>1</th>\n",
              "      <td>-0.033584</td>\n",
              "      <td>-0.033584</td>\n",
              "      <td>-0.033584</td>\n",
              "      <td>-0.033584</td>\n",
              "      <td>-0.033584</td>\n",
              "      <td>-0.033584</td>\n",
              "      <td>-0.033584</td>\n",
              "      <td>-0.033584</td>\n",
              "      <td>-0.033584</td>\n",
              "      <td>-0.033584</td>\n",
              "      <td>...</td>\n",
              "      <td>0.466416</td>\n",
              "      <td>0.466416</td>\n",
              "      <td>0.466416</td>\n",
              "      <td>0.466416</td>\n",
              "      <td>-0.533584</td>\n",
              "      <td>0.466416</td>\n",
              "      <td>0.466416</td>\n",
              "      <td>0.466416</td>\n",
              "      <td>0.466416</td>\n",
              "      <td>0.466416</td>\n",
              "    </tr>\n",
              "    <tr>\n",
              "      <th>2</th>\n",
              "      <td>-0.003279</td>\n",
              "      <td>-0.003279</td>\n",
              "      <td>-0.003279</td>\n",
              "      <td>-0.003279</td>\n",
              "      <td>-0.003279</td>\n",
              "      <td>-0.003279</td>\n",
              "      <td>-0.003279</td>\n",
              "      <td>-0.003279</td>\n",
              "      <td>-0.003279</td>\n",
              "      <td>-0.003279</td>\n",
              "      <td>...</td>\n",
              "      <td>-0.003279</td>\n",
              "      <td>-0.003279</td>\n",
              "      <td>-0.003279</td>\n",
              "      <td>-0.003279</td>\n",
              "      <td>-0.003279</td>\n",
              "      <td>-0.003279</td>\n",
              "      <td>-0.003279</td>\n",
              "      <td>-0.003279</td>\n",
              "      <td>-0.003279</td>\n",
              "      <td>-0.003279</td>\n",
              "    </tr>\n",
              "    <tr>\n",
              "      <th>3</th>\n",
              "      <td>-0.026074</td>\n",
              "      <td>-0.026074</td>\n",
              "      <td>-0.026074</td>\n",
              "      <td>-0.026074</td>\n",
              "      <td>-0.026074</td>\n",
              "      <td>-0.026074</td>\n",
              "      <td>-0.026074</td>\n",
              "      <td>-0.026074</td>\n",
              "      <td>-0.026074</td>\n",
              "      <td>-0.026074</td>\n",
              "      <td>...</td>\n",
              "      <td>-0.026074</td>\n",
              "      <td>-0.026074</td>\n",
              "      <td>-0.026074</td>\n",
              "      <td>-0.026074</td>\n",
              "      <td>-0.026074</td>\n",
              "      <td>-0.026074</td>\n",
              "      <td>-0.026074</td>\n",
              "      <td>-0.026074</td>\n",
              "      <td>-0.026074</td>\n",
              "      <td>-0.026074</td>\n",
              "    </tr>\n",
              "    <tr>\n",
              "      <th>4</th>\n",
              "      <td>0.006717</td>\n",
              "      <td>0.006717</td>\n",
              "      <td>0.006717</td>\n",
              "      <td>0.006717</td>\n",
              "      <td>0.006717</td>\n",
              "      <td>0.006717</td>\n",
              "      <td>0.006717</td>\n",
              "      <td>0.006717</td>\n",
              "      <td>0.006717</td>\n",
              "      <td>0.006717</td>\n",
              "      <td>...</td>\n",
              "      <td>0.006717</td>\n",
              "      <td>0.006717</td>\n",
              "      <td>0.006717</td>\n",
              "      <td>0.006717</td>\n",
              "      <td>0.006717</td>\n",
              "      <td>0.006717</td>\n",
              "      <td>0.006717</td>\n",
              "      <td>0.006717</td>\n",
              "      <td>0.006717</td>\n",
              "      <td>0.006717</td>\n",
              "    </tr>\n",
              "  </tbody>\n",
              "</table>\n",
              "<p>5 rows × 9454 columns</p>\n",
              "</div>"
            ],
            "text/plain": [
              "assessmentItemID  A010001001  A010001002  A010001003  A010001004  A010001005  \\\n",
              "0                  -0.010313   -0.010313   -0.010313   -0.010313   -0.010313   \n",
              "1                  -0.033584   -0.033584   -0.033584   -0.033584   -0.033584   \n",
              "2                  -0.003279   -0.003279   -0.003279   -0.003279   -0.003279   \n",
              "3                  -0.026074   -0.026074   -0.026074   -0.026074   -0.026074   \n",
              "4                   0.006717    0.006717    0.006717    0.006717    0.006717   \n",
              "\n",
              "assessmentItemID  A010002001  A010002002  A010002003  A010002004  A010002005  \\\n",
              "0                  -0.010313   -0.010313   -0.010313   -0.010313   -0.010313   \n",
              "1                  -0.033584   -0.033584   -0.033584   -0.033584   -0.033584   \n",
              "2                  -0.003279   -0.003279   -0.003279   -0.003279   -0.003279   \n",
              "3                  -0.026074   -0.026074   -0.026074   -0.026074   -0.026074   \n",
              "4                   0.006717    0.006717    0.006717    0.006717    0.006717   \n",
              "\n",
              "assessmentItemID  ...  A090073003  A090073004  A090073005  A090073006  \\\n",
              "0                 ...   -0.010313   -0.010313   -0.010313   -0.010313   \n",
              "1                 ...    0.466416    0.466416    0.466416    0.466416   \n",
              "2                 ...   -0.003279   -0.003279   -0.003279   -0.003279   \n",
              "3                 ...   -0.026074   -0.026074   -0.026074   -0.026074   \n",
              "4                 ...    0.006717    0.006717    0.006717    0.006717   \n",
              "\n",
              "assessmentItemID  A090074001  A090074002  A090074003  A090074004  A090074005  \\\n",
              "0                  -0.010313   -0.010313   -0.010313   -0.010313   -0.010313   \n",
              "1                  -0.533584    0.466416    0.466416    0.466416    0.466416   \n",
              "2                  -0.003279   -0.003279   -0.003279   -0.003279   -0.003279   \n",
              "3                  -0.026074   -0.026074   -0.026074   -0.026074   -0.026074   \n",
              "4                   0.006717    0.006717    0.006717    0.006717    0.006717   \n",
              "\n",
              "assessmentItemID  A090074006  \n",
              "0                  -0.010313  \n",
              "1                   0.466416  \n",
              "2                  -0.003279  \n",
              "3                  -0.026074  \n",
              "4                   0.006717  \n",
              "\n",
              "[5 rows x 9454 columns]"
            ]
          },
          "metadata": {},
          "output_type": "display_data"
        }
      ],
      "source": [
        "A = matrix_train.values\n",
        "a_mean = np.mean(A, axis=1)\n",
        "Am = A - a_mean.reshape(-1,1)\n",
        "display(pd.DataFrame(Am, columns=matrix_train.columns).head())"
      ]
    },
    {
      "cell_type": "markdown",
      "id": "75f5f6c9",
      "metadata": {
        "id": "75f5f6c9"
      },
      "source": [
        "위 matrix를 바탕으로 SVD 분석 수행\n",
        "\n",
        "SVD\n",
        " - Target matrix $A$에 대해 $A = U \\Sigma V$ 인 $U, \\Sigma, V$ 를 구함\n",
        " - 여기서 $U, \\Sigma, V$ 는 아래와 같음\n",
        "   - $U = R^{ n_{user} \\times n_{factor} }$\n",
        "   - $\\Sigma = R^{ n_{factor} \\times n_{factor} }$ 인 대각행렬\n",
        "   - $V = R^{ n_{factor} \\times n_{item} }$"
      ]
    },
    {
      "cell_type": "code",
      "execution_count": 15,
      "id": "8f3f1577",
      "metadata": {
        "id": "8f3f1577",
        "outputId": "1bac0817-f0a7-4cfd-defc-af3f20bd44d3"
      },
      "outputs": [
        {
          "name": "stdout",
          "output_type": "stream",
          "text": [
            "U=(6698, 12), sigma=(12,), V=(12, 9454)\n",
            "Singular Vlaues : [ 55.84676263  58.08435018  58.50497257  61.71803668  69.91786616\n",
            "  73.61657956  76.9598095   78.04681812  82.45156947  85.45001842\n",
            "  91.51120585 101.4153135 ]\n"
          ]
        }
      ],
      "source": [
        "U, sigma, V = svds(Am, k=12)\n",
        "print(f\"U={U.shape}, sigma={sigma.shape}, V={V.shape}\")\n",
        "print(f\"Singular Vlaues : {sigma}\")"
      ]
    },
    {
      "cell_type": "markdown",
      "id": "ae1516e0",
      "metadata": {
        "id": "ae1516e0"
      },
      "source": [
        "추론을 위해 predict matrix 복원\n",
        " - 처음 pivot table의 값을 SVD로 구한 matrix를 통해 복원했을 때, 두 행렬 사이의 오차 (restore error) 는 0에 가까울수록 SVD가 올바르게 구해짐"
      ]
    },
    {
      "cell_type": "code",
      "execution_count": 16,
      "id": "1ae2a142",
      "metadata": {
        "id": "1ae2a142",
        "outputId": "32c50931-144a-4ca4-d25a-57445656cdfe"
      },
      "outputs": [
        {
          "name": "stdout",
          "output_type": "stream",
          "text": [
            "Restore Error : 0.007568071517679343\n"
          ]
        }
      ],
      "source": [
        "Sigma = np.diag(sigma)\n",
        "A_pred = U @ Sigma @ V + a_mean.reshape(-1,1)\n",
        "restore_error = np.sum(np.square(A_pred - A)) /A_pred.size\n",
        "print(f\"Restore Error : {restore_error}\")"
      ]
    },
    {
      "cell_type": "markdown",
      "id": "b08e8b00",
      "metadata": {
        "id": "b08e8b00"
      },
      "source": [
        "## 🎯 예측 및 평가"
      ]
    },
    {
      "cell_type": "markdown",
      "id": "8df8ec58",
      "metadata": {
        "id": "8df8ec58"
      },
      "source": [
        "### 학습 데이터 재현 평가"
      ]
    },
    {
      "cell_type": "markdown",
      "id": "38e60cd5",
      "metadata": {
        "id": "38e60cd5"
      },
      "source": [
        "예측 함수 정의"
      ]
    },
    {
      "cell_type": "code",
      "execution_count": 17,
      "id": "49a99609",
      "metadata": {
        "id": "49a99609"
      },
      "outputs": [],
      "source": [
        "def predict(userid, itemid):\n",
        "    useridx = user_id2idx[userid]\n",
        "    itemidx = item_id2idx[itemid]\n",
        "    \n",
        "    return A_pred[useridx, itemidx]"
      ]
    },
    {
      "cell_type": "markdown",
      "id": "44899550",
      "metadata": {
        "id": "44899550"
      },
      "source": [
        "학습에 사용한 데이터를 얼마나 잘 예측하는지 평가"
      ]
    },
    {
      "cell_type": "code",
      "execution_count": 18,
      "id": "045c38b6",
      "metadata": {
        "id": "045c38b6",
        "outputId": "570b193e-2a57-48f8-aa0e-29644dc2a738"
      },
      "outputs": [
        {
          "name": "stdout",
          "output_type": "stream",
          "text": [
            "Train data prediction\n",
            " - Accuracy = 75.92%\n",
            " - ROC-AUC  = 78.02%\n"
          ]
        }
      ],
      "source": [
        "a_prob = [predict(u,i) for u,i in zip(train_data.userID, train_data.assessmentItemID)]\n",
        "a_pred = [round(v) for v in a_prob] \n",
        "a_true = train_data.answerCode\n",
        "\n",
        "print(\"Train data prediction\")\n",
        "print(f\" - Accuracy = {100*accuracy_score(a_true, a_pred):.2f}%\")\n",
        "print(f\" - ROC-AUC  = {100*roc_auc_score(a_true, a_prob):.2f}%\")\n"
      ]
    },
    {
      "cell_type": "markdown",
      "id": "de8d6f17",
      "metadata": {
        "id": "de8d6f17"
      },
      "source": [
        "위 코드에서는 이미 학습된 사용자에 대해서만 추론값을 계산 가능하다.\n",
        "\n",
        "- 테스트 데이터의 사용자는 학습 데이터셋에 존재하지 않는다.\n",
        "- 따라서 해당 사용자의 값을 가져올 수 없기에 키 에러가 발생한다."
      ]
    },
    {
      "cell_type": "code",
      "execution_count": 19,
      "id": "11699a0f",
      "metadata": {
        "id": "11699a0f",
        "outputId": "02d4f382-9abb-4c23-f92c-647547c786d3"
      },
      "outputs": [
        {
          "name": "stdout",
          "output_type": "stream",
          "text": [
            "Error Occurs!!\n"
          ]
        }
      ],
      "source": [
        "try:\n",
        "    a_prob = [predict(u,i) for u,i in zip(test_data.userID, test_data.assessmentItemID)]\n",
        "    a_pred = [round(v) for v in a_prob]\n",
        "    a_true = test_data.answerCode\n",
        "\n",
        "    print(\"Test data prediction\")\n",
        "    print(f\" - Accuracy = {100*accuracy_score(a_true, a_pred):.2f}%\")\n",
        "    print(f\" - ROC-AUC  = {100*roc_auc_score(a_true, a_prob):.2f}%\")\n",
        "except:\n",
        "    print(\"Error Occurs!!\")"
      ]
    },
    {
      "cell_type": "markdown",
      "id": "33b997a0",
      "metadata": {
        "id": "33b997a0"
      },
      "source": [
        "### 테스트 데이터 재현 평가"
      ]
    },
    {
      "cell_type": "markdown",
      "id": "d059f479",
      "metadata": {
        "id": "d059f479"
      },
      "source": [
        "학습되지 않은 사용자에 대해서도 문제를 푼 데이터가 존재할 경우 이를 바탕으로 추론 가능하다.\n",
        "\n",
        "$B = $ {학습되지 않은 사용자에 대한 User - Item 간 value 행렬}\n",
        "\n",
        "$ A = U \\Sigma V$ 일때 factor matrx $A_{factor} = R^{n_{user} \\times n_{factor}}$ 인 $A_{factor}$ 는\n",
        "- $A_{factor} \\Sigma V = A$\n",
        "- $A_{factor} = A {(\\Sigma V)}^+ = A V^T \\Sigma^+  $ ($U, V$ 는 직교행렬)\n",
        "\n",
        "$ B_{pred} \\approx B_{factor} \\Sigma V  = B V^T \\Sigma^+ \\Sigma V$"
      ]
    },
    {
      "cell_type": "code",
      "execution_count": 20,
      "id": "c8184164",
      "metadata": {
        "id": "c8184164"
      },
      "outputs": [],
      "source": [
        "def predict(matrix, userid, itemid, user_id2idx, item_id2idx):\n",
        "    \n",
        "    Sigma_i = np.diag(1/sigma)\n",
        "    pred_matrix = V.T @ Sigma_i @ Sigma @ V\n",
        "    \n",
        "    B = matrix\n",
        "    B_mean = np.mean(B, axis=1)\n",
        "    Bm = B - B_mean.reshape(-1,1)\n",
        "\n",
        "    B_pred =  B @ pred_matrix + B_mean.reshape(-1,1)\n",
        "\n",
        "    ret = [B_pred[user_id2idx[u], item_id2idx[i]] for u,i in zip(userid, itemid)]\n",
        "    return ret"
      ]
    },
    {
      "cell_type": "markdown",
      "id": "30acc85f",
      "metadata": {
        "id": "30acc85f"
      },
      "source": [
        "학습 데이터 재현 성공률"
      ]
    },
    {
      "cell_type": "code",
      "execution_count": 21,
      "id": "e213f71d",
      "metadata": {
        "id": "e213f71d",
        "outputId": "4b2ed1c5-877b-4f62-cae3-27348d7727be"
      },
      "outputs": [
        {
          "name": "stdout",
          "output_type": "stream",
          "text": [
            "Train data prediction\n",
            " - Accuracy = 75.92%\n",
            " - ROC-AUC  = 78.02%\n"
          ]
        }
      ],
      "source": [
        "a_prob = predict(matrix_train.values, train_data.userID, train_data.assessmentItemID, user_id2idx, item_id2idx)\n",
        "a_true = train_data.answerCode\n",
        "a_pred = [round(v) for v in a_prob]\n",
        "\n",
        "print(\"Train data prediction\")\n",
        "print(f\" - Accuracy = {100*accuracy_score(a_true, a_pred):.2f}%\")\n",
        "print(f\" - ROC-AUC  = {100*roc_auc_score(a_true, a_prob):.2f}%\")"
      ]
    },
    {
      "cell_type": "markdown",
      "id": "aff4d252",
      "metadata": {
        "id": "aff4d252"
      },
      "source": [
        "테스트 데이터 재현 성공률"
      ]
    },
    {
      "cell_type": "code",
      "execution_count": 24,
      "id": "3238f305",
      "metadata": {
        "id": "3238f305",
        "outputId": "9f4470c1-dc20-4489-924e-f6f6d620cfab"
      },
      "outputs": [
        {
          "name": "stdout",
          "output_type": "stream",
          "text": [
            "Test data prediction\n",
            " - Accuracy = 75.39%\n",
            " - ROC-AUC  = 77.23%\n"
          ]
        }
      ],
      "source": [
        "# item_id2idx는 train에서 사용한 것을 다시 사용한다.\n",
        "userid = sorted(list(set([u for u in test_data.userID])))\n",
        "user_id2idx_test = {v:i for i,v in enumerate(userid)}\n",
        "\n",
        "matrix_test = 0.5*np.ones((len(userid), len(item_id2idx)))\n",
        "for user,item,a in zip(test_data.userID, test_data.assessmentItemID, test_data.answerCode):\n",
        "    user,item = user_id2idx_test[user],item_id2idx[item]\n",
        "    matrix_test[user,item] = a\n",
        "\n",
        "# 성능 측정\n",
        "a_prob = predict(matrix_test, test_data.userID, test_data.assessmentItemID, user_id2idx_test, item_id2idx)\n",
        "a_true = test_data.answerCode\n",
        "a_pred = [round(v) for v in a_prob] \n",
        "\n",
        "print(\"Test data prediction\")\n",
        "print(f\" - Accuracy = {100*accuracy_score(a_true, a_pred):.2f}%\")\n",
        "print(f\" - ROC-AUC  = {100*roc_auc_score(a_true, a_prob):.2f}%\")"
      ]
    },
    {
      "cell_type": "markdown",
      "id": "93c846ba",
      "metadata": {
        "id": "93c846ba"
      },
      "source": [
        "### 테스트 평가 데이터 재현 평가"
      ]
    },
    {
      "cell_type": "markdown",
      "id": "8bdb6f3c",
      "metadata": {
        "id": "8bdb6f3c"
      },
      "source": [
        "테스트 데이터 기반 선별된 평가항목 추론"
      ]
    },
    {
      "cell_type": "code",
      "execution_count": 27,
      "id": "0ca44cbb",
      "metadata": {
        "id": "0ca44cbb",
        "outputId": "5e38e8ba-e704-4b56-abd3-95beb80a99d5"
      },
      "outputs": [
        {
          "name": "stdout",
          "output_type": "stream",
          "text": [
            "Test data prediction\n",
            " - Accuracy = 70.43%\n",
            " - ROC-AUC  = 73.84%\n"
          ]
        }
      ],
      "source": [
        "import os\n",
        "a_prob = predict(matrix_test, eval_data.userID, eval_data.assessmentItemID, user_id2idx_test, item_id2idx)\n",
        "a_true = eval_data.answerCode\n",
        "a_pred = [round(v) for v in a_prob] \n",
        "\n",
        "output_dir = \"output/\"\n",
        "write_path = os.path.join(output_dir, \"submission_MF_SVD.csv\")\n",
        "if not os.path.exists(output_dir):\n",
        "    os.makedirs(output_dir)\n",
        "with open(write_path, \"w\", encoding=\"utf8\") as w:\n",
        "    w.write(\"id,prediction\\n\")\n",
        "    for id, p in enumerate(a_pred):\n",
        "        w.write(\"{},{}\\n\".format(id, p))\n",
        "\n",
        "print(\"Test data prediction\")\n",
        "print(f\" - Accuracy = {100*accuracy_score(a_true, a_pred):.2f}%\")\n",
        "print(f\" - ROC-AUC  = {100*roc_auc_score(a_true, a_prob):.2f}%\")"
      ]
    }
  ],
  "metadata": {
    "colab": {
      "collapsed_sections": [],
      "name": "(미션-8) MF 기반 분석 (SVD).ipynb",
      "provenance": []
    },
    "interpreter": {
      "hash": "d4d1e4263499bec80672ea0156c357c1ee493ec2b1c70f0acce89fc37c4a6abe"
    },
    "kernelspec": {
      "display_name": "Python 3.8.5 ('base')",
      "language": "python",
      "name": "python3"
    },
    "language_info": {
      "codemirror_mode": {
        "name": "ipython",
        "version": 3
      },
      "file_extension": ".py",
      "mimetype": "text/x-python",
      "name": "python",
      "nbconvert_exporter": "python",
      "pygments_lexer": "ipython3",
      "version": "3.8.5"
    }
  },
  "nbformat": 4,
  "nbformat_minor": 5
}
